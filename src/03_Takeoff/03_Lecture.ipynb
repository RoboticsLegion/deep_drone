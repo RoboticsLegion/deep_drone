{
 "cells": [
  {
   "cell_type": "code",
   "execution_count": null,
   "metadata": {},
   "outputs": [],
   "source": []
  },
  {
   "cell_type": "markdown",
   "metadata": {},
   "source": [
    "## Homework\n",
    "\n",
    "\n",
    "\n",
    "- Write a ROS publisher in sp_takeoff.py to publish a string message \"Takeoff successful\" and \n",
    "\"Landing successful\" after takeoff and landing.\n",
    "\n",
    "\n",
    "- Remember to fork the repo and add a pull-request so that I could check your code!"
   ]
  },
  {
   "cell_type": "code",
   "execution_count": null,
   "metadata": {},
   "outputs": [],
   "source": []
  }
 ],
 "metadata": {
  "language_info": {
   "name": "python"
  }
 },
 "nbformat": 4,
 "nbformat_minor": 2
}
