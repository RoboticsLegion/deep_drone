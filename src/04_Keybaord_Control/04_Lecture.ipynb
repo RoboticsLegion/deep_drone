{
 "cells": [
  {
   "cell_type": "code",
   "execution_count": null,
   "metadata": {},
   "outputs": [],
   "source": []
  },
  {
   "cell_type": "markdown",
   "metadata": {},
   "source": [
    "## Homework\n",
    "\n",
    "- Modify sp_ctrl.py and sp_olympe.py code so that you can send takeoff and landing commands with \"v\" and \"c\" keyboard commands.\n",
    "\n",
    "- Remember to fork the repo and add a pull-request so that I could check your code!"
   ]
  },
  {
   "cell_type": "markdown",
   "metadata": {},
   "source": []
  }
 ],
 "metadata": {
  "language_info": {
   "name": "python"
  }
 },
 "nbformat": 4,
 "nbformat_minor": 2
}
