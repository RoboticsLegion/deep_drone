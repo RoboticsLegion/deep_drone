{
 "cells": [
  {
   "cell_type": "code",
   "execution_count": null,
   "metadata": {},
   "outputs": [],
   "source": []
  },
  {
   "cell_type": "markdown",
   "metadata": {},
   "source": [
    "## Homework\n",
    "\n",
    "Add a function in sp_stream.py to annotate the streaming feed with opencv to display \n",
    "received image size with a text on image. You should add annotate_frame  argument to \n",
    "streaming class as \n",
    "\n",
    "```\n",
    "def __init__(self, save_video=False, save_frame=False, annotate_frame=False):\n",
    "```\n",
    "\n",
    "\n",
    "- Remember to fork the repo and add a pull-request so that I could check your code!"
   ]
  },
  {
   "cell_type": "markdown",
   "metadata": {},
   "source": []
  }
 ],
 "metadata": {
  "language_info": {
   "name": "python"
  }
 },
 "nbformat": 4,
 "nbformat_minor": 2
}
